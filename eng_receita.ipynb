{
 "cells": [
  {
   "cell_type": "code",
   "execution_count": 16,
   "metadata": {},
   "outputs": [],
   "source": [
    "import requests\n",
    "import re\n",
    "import json"
   ]
  },
  {
   "cell_type": "code",
   "execution_count": 17,
   "metadata": {
    "tags": []
   },
   "outputs": [
    {
     "output_type": "execute_result",
     "data": {
      "text/plain": "'{\\n\\t\"status\": false,\\n\\t\"return\": \"NOK\",\\n\\t\"message\": \"Data Nascimento invalida.\"\\n}'"
     },
     "metadata": {},
     "execution_count": 17
    }
   ],
   "source": [
    "def consulta_cad_receita(cpf: str, dt_nasc: str) -> str:\n",
    "    cpf_trat = re.sub(r'[.-]', '', cpf)\n",
    "    \n",
    "    resp = requests.get('https://ws.hubdodesenvolvedor.com.br/v2/cpf/', \n",
    "        params = {\n",
    "            'cpf': cpf_trat,\n",
    "            'data': dt_nasc,\n",
    "            'token': '92539435iXjJOVUuvx167077144'\n",
    "        }\n",
    "    )\n",
    "\n",
    "    if resp.status_code != 200:\n",
    "        raise Exception('Erro ao executar a pesquisa ' + resp.status_code)\n",
    "    \n",
    "    return resp.text\n",
    "\n",
    "r = consulta_cad_receita('009.478.598-88', '12/03/1992') #alterar este CPF por um sujo\n",
    "r"
   ]
  },
  {
   "cell_type": "code",
   "execution_count": null,
   "metadata": {},
   "outputs": [],
   "source": []
  }
 ],
 "metadata": {
  "language_info": {
   "codemirror_mode": {
    "name": "ipython",
    "version": 3
   },
   "file_extension": ".py",
   "mimetype": "text/x-python",
   "name": "python",
   "nbconvert_exporter": "python",
   "pygments_lexer": "ipython3",
   "version": "3.7.7-final"
  },
  "orig_nbformat": 2,
  "kernelspec": {
   "name": "py_37_env",
   "display_name": "py_37_env"
  }
 },
 "nbformat": 4,
 "nbformat_minor": 2
}