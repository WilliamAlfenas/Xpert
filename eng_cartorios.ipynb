{
 "cells": [
  {
   "cell_type": "code",
   "execution_count": 1,
   "metadata": {},
   "outputs": [],
   "source": [
    "#import uuid\n",
    "import requests\n",
    "from anticaptchaofficial.recaptchav3proxyless import recaptchaV3Proxyless"
   ]
  },
  {
   "cell_type": "code",
   "execution_count": 2,
   "metadata": {
    "tags": []
   },
   "outputs": [
    {
     "output_type": "stream",
     "name": "stdout",
     "text": "making request to createTask\ncreated task with id 799689388\nmaking request to getTaskResult\ntask is still processing\nmaking request to getTaskResult\ntask is still processing\nmaking request to getTaskResult\ntask solved\n"
    },
    {
     "output_type": "execute_result",
     "data": {
      "text/plain": "(200, '0;0')"
     },
     "metadata": {},
     "execution_count": 2
    }
   ],
   "source": [
    "def consulta_protestos(cpf: str):\n",
    "    solver = recaptchaV3Proxyless()\n",
    "    solver.set_verbose(1)\n",
    "    solver.set_key(\"e06baffafed5019fcffca709ea456c42\") #<-Chave do Alexandro\n",
    "\n",
    "    solver.set_website_url(\"https://www.protestosp.com.br\")\n",
    "    solver.set_website_key(\"6LedIn4UAAAAAFfCJvLiDr8PCH_jgRRLqQmCU41Q\")\n",
    "    solver.set_page_action(\"home_page\")\n",
    "    solver.set_min_score(0.6)\n",
    "\n",
    "    g_response = solver.solve_and_return_solution()\n",
    "    if g_response == 0:\n",
    "        raise Exception(\"task finished with error \"+solver.error_code)\n",
    "\n",
    "    #session_id = uuid.uuid4().hex\n",
    "\n",
    "    resp = requests.post('https://www.protestosp.com.br/consulta-de-protesto/Pesquisar', \n",
    "        #cookies = {\n",
    "        #    'ASP.NET_SessionId': session_id\n",
    "        #},\n",
    "        data = {\n",
    "            'g-recaptcha-response': g_response,\n",
    "            'Abrangencia': 2,\n",
    "            'AbrangenciaUF': 0,\n",
    "            'TipoDocumento': 1,\n",
    "            'Ip': 0,\n",
    "            'Documento': cpf\n",
    "        }\n",
    "    )\n",
    "    if resp.status_code != 200:\n",
    "        raise Exception('Erro ao executar a pesquisa ' + resp.status_code)\n",
    "    \n",
    "    return requests.post('https://www.protestosp.com.br/consulta-de-protesto/ObterTotaisPesquisa', \n",
    "        cookies = dict(resp.cookies)\n",
    "        #cookies = {\n",
    "        #    'ASP.NET_SessionId': session_id\n",
    "        #}\n",
    "    )\n",
    "\n",
    "\n",
    "r = consulta_protestos('693.408.970-72') #alterar este CPF por um sujo\n",
    "r.status_code, r.text"
   ]
  },
  {
   "cell_type": "markdown",
   "metadata": {},
   "source": [
    "O Resultado **0;0** significa que existem 0 protestos em SP e 0 nos outros Estados"
   ]
  }
 ],
 "metadata": {
  "language_info": {
   "codemirror_mode": {
    "name": "ipython",
    "version": 3
   },
   "file_extension": ".py",
   "mimetype": "text/x-python",
   "name": "python",
   "nbconvert_exporter": "python",
   "pygments_lexer": "ipython3",
   "version": "3.7.7-final"
  },
  "orig_nbformat": 2,
  "kernelspec": {
   "name": "py_37_env",
   "display_name": "py_37_env"
  }
 },
 "nbformat": 4,
 "nbformat_minor": 2
}