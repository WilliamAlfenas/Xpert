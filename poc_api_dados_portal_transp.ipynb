{
 "metadata": {
  "language_info": {
   "codemirror_mode": {
    "name": "ipython",
    "version": 3
   },
   "file_extension": ".py",
   "mimetype": "text/x-python",
   "name": "python",
   "nbconvert_exporter": "python",
   "pygments_lexer": "ipython3",
   "version": "3.7.7-final"
  },
  "orig_nbformat": 2,
  "kernelspec": {
   "name": "py_37_env",
   "display_name": "py_37_env"
  }
 },
 "nbformat": 4,
 "nbformat_minor": 2,
 "cells": [
  {
   "cell_type": "markdown",
   "metadata": {},
   "source": [
    "## Portal da Transparência\n",
    "\n",
    "Nesta pequena PoC estarei demonstrando como extrair os dados do Portal da Transparência"
   ]
  },
  {
   "cell_type": "code",
   "execution_count": 2,
   "metadata": {},
   "outputs": [],
   "source": [
    "import asyncio\n",
    "import aiohttp\n",
    "import time\n",
    "import json\n",
    "import re\n",
    "import nest_asyncio\n",
    "nest_asyncio.apply()"
   ]
  },
  {
   "cell_type": "code",
   "execution_count": 11,
   "metadata": {
    "tags": []
   },
   "outputs": [],
   "source": [
    "def check_cpf_info(cpf: str, ano, mes):\n",
    "    base_url='http://www.portaltransparencia.gov.br/api-de-dados/'\n",
    "    api_key = {'chave-api-dados': 'a85dfaa630b9a8bcc88a4413bc418d36'}\n",
    "\n",
    "    tab = '...'\n",
    "    api_methods = \\\n",
    "    f'''auxilio-emergencial-por-cpf-ou-nis?pagina=1&codigoBeneficiario=\n",
    "    bpc-por-cpf-ou-nis?pagina=1&codigo=\n",
    "    bolsa-familia-disponivel-por-cpf-ou-nis?pagina=1&anoMesReferencia={ano+mes}&codigo=\n",
    "    ceaf?pagina=1&cpfSancionado=\n",
    "    ceis?pagina=1&codigoSancionado=\n",
    "    cnep?pagina=1&cnpjSancionado=\n",
    "    cepim?pagina=1&cnpjSancionado=\n",
    "    safra-codigo-por-cpf-ou-nis?pagina=1&codigo=\n",
    "    peti-por-cpf-ou-nis?pagina=1&codigo=\n",
    "    seguro-defeso-codigo?pagina=1&codigo=\n",
    "    servidores/remuneracao?pagina=1&mesAno={mes+ano}&cpf=\n",
    "    viagens-por-cpf?pagina=1&cpf='''.split(\"\\n\")\n",
    "\n",
    "    async def do_request(api_method):\n",
    "        api_url = api_method + cpf\n",
    "        try:\n",
    "            async with aiohttp.ClientSession() as session:\n",
    "                async with session.get(\n",
    "                        url = base_url + api_url,\n",
    "                        headers = api_key\n",
    "                    ) as http_resp:\n",
    "                    data = await http_resp.json()\n",
    "                    pretty_output = json.dumps(data, indent=5)\n",
    "                    pretty_output = tab + re.sub(r'\\n', f'\\n{tab}', pretty_output)\n",
    "                    print(api_url, pretty_output, sep = '\\n')\n",
    "        except Exception as e:\n",
    "            print(api_url, tab + str(e), sep = '\\n')\n",
    "\n",
    "    async def main(methods):\n",
    "        ret = await asyncio.gather(*[do_request(method) for method in methods])\n",
    "        print(f'Todas as solicitações foram finalizadas')\n",
    "\n",
    "\n",
    "    start = time.time()\n",
    "    asyncio.run(main(api_methods))\n",
    "    end = time.time()\n",
    "\n",
    "    print(f'Levou {end - start} segundos para executar {len(api_methods)} requesições em Paralelo.')\n"
   ]
  },
  {
   "cell_type": "code",
   "execution_count": 13,
   "metadata": {
    "tags": []
   },
   "outputs": [
    {
     "output_type": "stream",
     "name": "stdout",
     "text": "servidores/remuneracao?pagina=1&mesAno=012019&cpf=44308720826\n...{\n...     \"Error API\": \"Erro ao executar a consulta\"\n...}\nsafra-codigo-por-cpf-ou-nis?pagina=1&codigo=44308720826\n...[]\npeti-por-cpf-ou-nis?pagina=1&codigo=44308720826\n...[]\nceaf?pagina=1&cpfSancionado=44308720826\n...[]\nseguro-defeso-codigo?pagina=1&codigo=44308720826\n...[]\ncepim?pagina=1&cnpjSancionado=44308720826\n...[]\nbolsa-familia-disponivel-por-cpf-ou-nis?pagina=1&anoMesReferencia=201901&codigo=44308720826\n...[]\ncnep?pagina=1&cnpjSancionado=44308720826\n...[]\nauxilio-emergencial-por-cpf-ou-nis?pagina=1&codigoBeneficiario=44308720826\n...[\n...     {\n...          \"id\": 40491559,\n...          \"mesDisponibilizacao\": \"04/2020\",\n...          \"beneficiario\": {\n...               \"nis\": \"20793915397\",\n...               \"nome\": \"SIMONE BATISTA\",\n...               \"multiploCadastro\": false,\n...               \"cpfFormatado\": \"***.087.208-**\"\n...          },\n...          \"responsavelAuxilioEmergencial\": {\n...               \"nis\": \"-2\",\n...               \"nome\": \"N\\u00e3o se aplica\",\n...               \"nomeSemAcento\": \"Nao se aplica\",\n...               \"cpfFormatado\": \"\"\n...          },\n...          \"municipio\": {\n...               \"codigoIBGE\": \"3518800\",\n...               \"nomeIBGE\": \"GUARULHOS\",\n...               \"nomeIBGEsemAcento\": \"GUARULHOS\",\n...               \"pais\": \"BRASIL\",\n...               \"uf\": {\n...                    \"sigla\": \"SP\",\n...                    \"nome\": \"S\\u00c3O PAULO\"\n...               }\n...          },\n...          \"valor\": 600.0\n...     }\n...]\nceis?pagina=1&codigoSancionado=44308720826\n...[]\nviagens-por-cpf?pagina=1&cpf=44308720826\n...[]\nbpc-por-cpf-ou-nis?pagina=1&codigo=44308720826\n...{\n...     \"Error API\": \"Erro ao executar a consulta\"\n...}\nTodas as solicitações foram finalizadas\nLevou 11.319035768508911 segundos para executar 12 requesições em Paralelo.\n"
    }
   ],
   "source": [
    "#Exemplo\n",
    "check_cpf_info('44308720826', '2020', '01')"
   ]
  },
  {
   "source": [
    "Acima já conseguimos verificar que o CPF fez uso do auxilio emergencial - entre outras informações."
   ],
   "cell_type": "markdown",
   "metadata": {}
  }
 ]
}